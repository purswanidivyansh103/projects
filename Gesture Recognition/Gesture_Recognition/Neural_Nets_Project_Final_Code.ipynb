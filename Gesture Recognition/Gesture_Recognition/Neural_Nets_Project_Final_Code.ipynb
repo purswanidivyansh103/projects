{
 "cells": [
  {
   "cell_type": "markdown",
   "metadata": {
    "id": "3RJ2iQ_uve8s"
   },
   "source": [
    "# Gesture Recognition\n",
    "In this group project, you are going to build a 3D Conv model that will be able to predict the 5 gestures correctly. Please import the following libraries to get started."
   ]
  },
  {
   "cell_type": "code",
   "execution_count": 43,
   "metadata": {
    "colab": {
     "base_uri": "https://localhost:8080/"
    },
    "executionInfo": {
     "elapsed": 1199,
     "status": "ok",
     "timestamp": 1620558407316,
     "user": {
      "displayName": "Andukuri Maharshi",
      "photoUrl": "https://lh3.googleusercontent.com/a-/AOh14GiZLitwqSj3y4HL3aCS_nGs8LHA886Ap16p41prmA=s64",
      "userId": "03214756411046838000"
     },
     "user_tz": -330
    },
    "id": "YbVuIZSJ5fdE",
    "outputId": "d400ed5f-4212-420e-dd29-12259b1d5edc"
   },
   "outputs": [
    {
     "name": "stdout",
     "output_type": "stream",
     "text": [
      "Drive already mounted at /content/drive; to attempt to forcibly remount, call drive.mount(\"/content/drive\", force_remount=True).\n"
     ]
    }
   ],
   "source": [
    "#from google.colab import drive\n",
    "#drive.mount('/content/drive')"
   ]
  },
  {
   "cell_type": "code",
   "execution_count": 144,
   "metadata": {
    "colab": {
     "base_uri": "https://localhost:8080/"
    },
    "executionInfo": {
     "elapsed": 5549,
     "status": "ok",
     "timestamp": 1620569946822,
     "user": {
      "displayName": "Andukuri Maharshi",
      "photoUrl": "https://lh3.googleusercontent.com/a-/AOh14GiZLitwqSj3y4HL3aCS_nGs8LHA886Ap16p41prmA=s64",
      "userId": "03214756411046838000"
     },
     "user_tz": -330
    },
    "id": "EhHIxyAVve9D",
    "outputId": "77af5550-1fb4-4dd7-cc23-555d773b8b40"
   },
   "outputs": [
    {
     "name": "stdout",
     "output_type": "stream",
     "text": [
      "Requirement already satisfied: scipy==1.1.0 in /usr/local/lib/python3.7/dist-packages (1.1.0)\n",
      "Requirement already satisfied: numpy>=1.8.2 in /usr/local/lib/python3.7/dist-packages (from scipy==1.1.0) (1.19.5)\n"
     ]
    }
   ],
   "source": [
    "#!pip install scipy==1.1.0\n",
    "\n",
    "import numpy as np\n",
    "import os\n",
    "from scipy.misc import imread, imresize\n",
    "import datetime\n",
    "import os"
   ]
  },
  {
   "cell_type": "markdown",
   "metadata": {
    "id": "EKAekYIpve9O"
   },
   "source": [
    "We set the random seed so that the results don't vary drastically."
   ]
  },
  {
   "cell_type": "code",
   "execution_count": 145,
   "metadata": {
    "executionInfo": {
     "elapsed": 4968,
     "status": "ok",
     "timestamp": 1620569946823,
     "user": {
      "displayName": "Andukuri Maharshi",
      "photoUrl": "https://lh3.googleusercontent.com/a-/AOh14GiZLitwqSj3y4HL3aCS_nGs8LHA886Ap16p41prmA=s64",
      "userId": "03214756411046838000"
     },
     "user_tz": -330
    },
    "id": "-B9xFERhX_se"
   },
   "outputs": [],
   "source": [
    "#import warnings\n",
    "\n",
    "#warnings.filterwarnings('ignore')"
   ]
  },
  {
   "cell_type": "code",
   "execution_count": 146,
   "metadata": {
    "executionInfo": {
     "elapsed": 4696,
     "status": "ok",
     "timestamp": 1620569946823,
     "user": {
      "displayName": "Andukuri Maharshi",
      "photoUrl": "https://lh3.googleusercontent.com/a-/AOh14GiZLitwqSj3y4HL3aCS_nGs8LHA886Ap16p41prmA=s64",
      "userId": "03214756411046838000"
     },
     "user_tz": -330
    },
    "id": "5fDNNiwQve9P"
   },
   "outputs": [],
   "source": [
    "np.random.seed(30)\n",
    "import random as rn\n",
    "rn.seed(30)\n",
    "from keras import backend as K\n",
    "import tensorflow as tf\n",
    "tf.random.set_seed(30)"
   ]
  },
  {
   "cell_type": "markdown",
   "metadata": {
    "id": "D_XBhmiOve9R"
   },
   "source": [
    "In this block, you read the folder names for training and validation. You also set the `batch_size` here. Note that you set the batch size in such a way that you are able to use the GPU in full capacity. You keep increasing the batch size until the machine throws an error."
   ]
  },
  {
   "cell_type": "code",
   "execution_count": 147,
   "metadata": {
    "executionInfo": {
     "elapsed": 2306,
     "status": "ok",
     "timestamp": 1620569946824,
     "user": {
      "displayName": "Andukuri Maharshi",
      "photoUrl": "https://lh3.googleusercontent.com/a-/AOh14GiZLitwqSj3y4HL3aCS_nGs8LHA886Ap16p41prmA=s64",
      "userId": "03214756411046838000"
     },
     "user_tz": -330
    },
    "id": "UaA_bjGIve9T"
   },
   "outputs": [],
   "source": [
    "train_doc = np.random.permutation(open('/content/drive/MyDrive/Project_data/train.csv').readlines())\n",
    "val_doc = np.random.permutation(open('/content/drive/MyDrive/Project_data/val.csv').readlines())\n",
    "batch_size = 32 #experiment with the batch size"
   ]
  },
  {
   "cell_type": "markdown",
   "metadata": {
    "id": "F9f0hGfove9U"
   },
   "source": [
    "## Generator\n",
    "This is one of the most important part of the code. The overall structure of the generator has been given. In the generator, you are going to preprocess the images as you have images of 2 different dimensions as well as create a batch of video frames. You have to experiment with `img_idx`, `y`,`z` and normalization such that you get high accuracy."
   ]
  },
  {
   "cell_type": "code",
   "execution_count": 148,
   "metadata": {
    "executionInfo": {
     "elapsed": 1181,
     "status": "ok",
     "timestamp": 1620569946824,
     "user": {
      "displayName": "Andukuri Maharshi",
      "photoUrl": "https://lh3.googleusercontent.com/a-/AOh14GiZLitwqSj3y4HL3aCS_nGs8LHA886Ap16p41prmA=s64",
      "userId": "03214756411046838000"
     },
     "user_tz": -330
    },
    "id": "Yx-2QG71ve9V"
   },
   "outputs": [],
   "source": [
    "def generator(source_path, folder_list, batch_size):\n",
    "    print( 'Source path = ', source_path, '; batch size =', batch_size)\n",
    "    img_idx = [1, 3, 5, 9 , 12, 14, 17, 19, 21, 23, 24, 26, 28, 29]#create a list of image numbers you want to use for a particular video\n",
    "    while True:\n",
    "        t = np.random.permutation(folder_list)\n",
    "        num_batches = len(t)//batch_size # calculate the number of batches\n",
    "        for batch in range(num_batches): # we iterate over the number of batches\n",
    "            batch_data = np.zeros((batch_size,len(img_idx),84,84,3)) # x is the number of images you use for each video, (y,z) is the final size of the input images and 3 is the number of channels RGB\n",
    "            batch_labels = np.zeros((batch_size,5)) # batch_labels is the one hot representation of the output\n",
    "            for folder in range(batch_size): # iterate over the batch_size\n",
    "                imgs = os.listdir(source_path+'/'+ t[folder + (batch*batch_size)].split(';')[0]) # read all the images in the folder\n",
    "                for idx,item in enumerate(img_idx): #  Iterate iver the frames/images of a folder to read them in\n",
    "                    image = imread(source_path+'/'+ t[folder + (batch*batch_size)].strip().split(';')[0]+'/'+imgs[item]).astype(np.float32)\n",
    "                    \n",
    "                    image=imresize(image, (84,84))\n",
    "                    #crop the images and resize them. Note that the images are of 2 different shape \n",
    "                    #and the conv3D will throw error if the inputs in a batch have different shapes\n",
    "                    \n",
    "                    batch_data[folder,idx,:,:,0] = image[:,:,0]/255#normalise and feed in the image\n",
    "                    batch_data[folder,idx,:,:,1] = image[:,:,1]/255#normalise and feed in the image\n",
    "                    batch_data[folder,idx,:,:,2] = image[:,:,2]/255#normalise and feed in the image\n",
    "                    \n",
    "                batch_labels[folder, int(t[folder + (batch*batch_size)].strip().split(';')[2])] = 1\n",
    "            yield batch_data, batch_labels #you yield the batch_data and the batch_labels, remember what does yield do\n",
    "\n",
    "        \n",
    "        # write the code for the remaining data points which are left after full batches\n",
    "\n",
    "        if(len(t)%batch_size) != 0:\n",
    "            batch_size_new = len(t)%batch_size\n",
    "            batch_data = np.zeros((batch_size_new,len(img_idx),84,84,3)) # x is the number of images you use for each video, (y,z) is the final size of the input images and 3 is the number of channels RGB\n",
    "            batch_labels = np.zeros((batch_size_new,5)) # batch_labels is the one hot representation of the output\n",
    "            for folder in range(batch_size_new): # iterate over the batch_size\n",
    "                imgs = os.listdir(source_path+'/'+ t[folder + (num_batches*batch_size)].split(';')[0]) # read all the images in the folder\n",
    "                for idx,item in enumerate(img_idx): #  Iterate iver the frames/images of a folder to read them in\n",
    "                    image = imread(source_path+'/'+ t[folder + (num_batches*batch_size)].strip().split(';')[0]+'/'+imgs[item]).astype(np.float32)\n",
    "                    \n",
    "                    # resize\n",
    "                    image = imresize(image,(84,84))\n",
    "\n",
    "                    #crop the images and resize them. Note that the images are of 2 different shape \n",
    "                    #and the conv3D will throw error if the inputs in a batch have different shapes\n",
    "                        \n",
    "                    batch_data[folder,idx,:,:,0] = image[:,:,0]/255#normalise and feed in the image\n",
    "                    batch_data[folder,idx,:,:,1] = image[:,:,1]/255#normalise and feed in the image\n",
    "                    batch_data[folder,idx,:,:,2] = image[:,:,2]/255#normalise and feed in the image\n",
    "                batch_labels[folder, int(t[folder + (num_batches*batch_size)].strip().split(';')[2])] = 1 # OHE\n",
    "            yield batch_data, batch_labels #you yield the batch_data and the batch_labels, remember what does yield do\n"
   ]
  },
  {
   "cell_type": "markdown",
   "metadata": {
    "id": "smUF0bYUve9Y"
   },
   "source": [
    "Note here that a video is represented above in the generator as (number of images, height, width, number of channels). Take this into consideration while creating the model architecture."
   ]
  },
  {
   "cell_type": "code",
   "execution_count": 149,
   "metadata": {
    "colab": {
     "base_uri": "https://localhost:8080/"
    },
    "executionInfo": {
     "elapsed": 852,
     "status": "ok",
     "timestamp": 1620569952979,
     "user": {
      "displayName": "Andukuri Maharshi",
      "photoUrl": "https://lh3.googleusercontent.com/a-/AOh14GiZLitwqSj3y4HL3aCS_nGs8LHA886Ap16p41prmA=s64",
      "userId": "03214756411046838000"
     },
     "user_tz": -330
    },
    "id": "Kg4qSVKbve9Z",
    "outputId": "40426dee-333c-4f01-d9f5-912571d4a57a"
   },
   "outputs": [
    {
     "name": "stdout",
     "output_type": "stream",
     "text": [
      "# training sequences = 663\n",
      "# validation sequences = 100\n",
      "# epochs = 14\n"
     ]
    }
   ],
   "source": [
    "curr_dt_time = datetime.datetime.now()\n",
    "train_path = '/content/drive/MyDrive/Project_data/train'\n",
    "val_path = '/content/drive/MyDrive/Project_data/val'\n",
    "num_train_sequences = len(train_doc)\n",
    "print('# training sequences =', num_train_sequences)\n",
    "num_val_sequences = len(val_doc)\n",
    "print('# validation sequences =', num_val_sequences)\n",
    "num_epochs = 14# choose the number of epochs\n",
    "print ('# epochs =', num_epochs)"
   ]
  },
  {
   "cell_type": "markdown",
   "metadata": {
    "id": "-76eZSomve9a"
   },
   "source": [
    "## Model\n",
    "Here you make the model using different functionalities that Keras provides. Remember to use `Conv3D` and `MaxPooling3D` and not `Conv2D` and `Maxpooling2D` for a 3D convolution model. You would want to use `TimeDistributed` while building a Conv2D + RNN model. Also remember that the last layer is the softmax. Design the network in such a way that the model is able to give good accuracy on the least number of parameters so that it can fit in the memory of the webcam."
   ]
  },
  {
   "cell_type": "code",
   "execution_count": 150,
   "metadata": {
    "executionInfo": {
     "elapsed": 679,
     "status": "ok",
     "timestamp": 1620569953574,
     "user": {
      "displayName": "Andukuri Maharshi",
      "photoUrl": "https://lh3.googleusercontent.com/a-/AOh14GiZLitwqSj3y4HL3aCS_nGs8LHA886Ap16p41prmA=s64",
      "userId": "03214756411046838000"
     },
     "user_tz": -330
    },
    "id": "3du7Imbive9c"
   },
   "outputs": [],
   "source": [
    "from keras.models import Sequential, Model\n",
    "from keras.layers import Dense, GRU, Flatten, TimeDistributed, Flatten, BatchNormalization, Activation, Dropout\n",
    "from keras.layers.convolutional import Conv3D, MaxPooling3D\n",
    "from keras.callbacks import ModelCheckpoint, ReduceLROnPlateau\n",
    "from keras import optimizers\n",
    "\n",
    "#write your model here\n",
    "model = Sequential()\n",
    "\n",
    "model.add(BatchNormalization(input_shape=(14,84,84,3)))\n",
    "\n",
    "model.add(Conv3D(32, (3, 3, 3), activation='relu', padding='same'))\n",
    "model.add(MaxPooling3D((2, 2, 2)))\n",
    "#model.add(BatchNormalization())\n",
    "model.add(Dropout(0.05))\n",
    "\n",
    "model.add(Conv3D(64, (3, 3, 3), activation='relu', padding='same'))\n",
    "model.add(MaxPooling3D((2, 2, 2)))\n",
    "#model.add(BatchNormalization())\n",
    "model.add(Dropout(0.25))\n",
    "\n",
    "model.add(Conv3D(128, (3, 3, 3), activation='relu', padding='same'))\n",
    "model.add(MaxPooling3D((2, 2, 2)))\n",
    "#model.add(BatchNormalization())\n",
    "model.add(Dropout(0.25))\n",
    "\n",
    "\n",
    "model.add(Flatten())\n",
    "\n",
    "model.add(Dense(512))\n",
    "model.add(Activation('elu'))\n",
    "model.add(Dropout(0.5))\n",
    "model.add(Dense(5))\n",
    "model.add(Activation('softmax'))"
   ]
  },
  {
   "cell_type": "markdown",
   "metadata": {
    "id": "5mVQg848ve9d"
   },
   "source": [
    "Now that you have written the model, the next step is to `compile` the model. When you print the `summary` of the model, you'll see the total number of parameters you have to train."
   ]
  },
  {
   "cell_type": "code",
   "execution_count": 151,
   "metadata": {
    "colab": {
     "base_uri": "https://localhost:8080/"
    },
    "executionInfo": {
     "elapsed": 975,
     "status": "ok",
     "timestamp": 1620569954953,
     "user": {
      "displayName": "Andukuri Maharshi",
      "photoUrl": "https://lh3.googleusercontent.com/a-/AOh14GiZLitwqSj3y4HL3aCS_nGs8LHA886Ap16p41prmA=s64",
      "userId": "03214756411046838000"
     },
     "user_tz": -330
    },
    "id": "LJrSABDsve9e",
    "outputId": "c749655b-e933-499b-ea0e-e9ede043849e",
    "scrolled": true
   },
   "outputs": [
    {
     "name": "stdout",
     "output_type": "stream",
     "text": [
      "Model: \"sequential_23\"\n",
      "_________________________________________________________________\n",
      "Layer (type)                 Output Shape              Param #   \n",
      "=================================================================\n",
      "batch_normalization_50 (Batc (None, 14, 84, 84, 3)     12        \n",
      "_________________________________________________________________\n",
      "conv3d_74 (Conv3D)           (None, 14, 84, 84, 32)    2624      \n",
      "_________________________________________________________________\n",
      "max_pooling3d_74 (MaxPooling (None, 7, 42, 42, 32)     0         \n",
      "_________________________________________________________________\n",
      "dropout_62 (Dropout)         (None, 7, 42, 42, 32)     0         \n",
      "_________________________________________________________________\n",
      "conv3d_75 (Conv3D)           (None, 7, 42, 42, 64)     55360     \n",
      "_________________________________________________________________\n",
      "max_pooling3d_75 (MaxPooling (None, 3, 21, 21, 64)     0         \n",
      "_________________________________________________________________\n",
      "dropout_63 (Dropout)         (None, 3, 21, 21, 64)     0         \n",
      "_________________________________________________________________\n",
      "conv3d_76 (Conv3D)           (None, 3, 21, 21, 128)    221312    \n",
      "_________________________________________________________________\n",
      "max_pooling3d_76 (MaxPooling (None, 1, 10, 10, 128)    0         \n",
      "_________________________________________________________________\n",
      "dropout_64 (Dropout)         (None, 1, 10, 10, 128)    0         \n",
      "_________________________________________________________________\n",
      "flatten_23 (Flatten)         (None, 12800)             0         \n",
      "_________________________________________________________________\n",
      "dense_46 (Dense)             (None, 512)               6554112   \n",
      "_________________________________________________________________\n",
      "activation_46 (Activation)   (None, 512)               0         \n",
      "_________________________________________________________________\n",
      "dropout_65 (Dropout)         (None, 512)               0         \n",
      "_________________________________________________________________\n",
      "dense_47 (Dense)             (None, 5)                 2565      \n",
      "_________________________________________________________________\n",
      "activation_47 (Activation)   (None, 5)                 0         \n",
      "=================================================================\n",
      "Total params: 6,835,985\n",
      "Trainable params: 6,835,979\n",
      "Non-trainable params: 6\n",
      "_________________________________________________________________\n",
      "None\n"
     ]
    }
   ],
   "source": [
    "optimiser = optimizers.SGD(learning_rate=0.01) #write your optimizer\n",
    "model.compile(optimizer=optimiser, loss='categorical_crossentropy', metrics=['categorical_accuracy'])\n",
    "print (model.summary())"
   ]
  },
  {
   "cell_type": "markdown",
   "metadata": {
    "id": "qcqqMYIYve9g"
   },
   "source": [
    "Let us create the `train_generator` and the `val_generator` which will be used in `.fit_generator`."
   ]
  },
  {
   "cell_type": "code",
   "execution_count": 152,
   "metadata": {
    "executionInfo": {
     "elapsed": 1161,
     "status": "ok",
     "timestamp": 1620569957188,
     "user": {
      "displayName": "Andukuri Maharshi",
      "photoUrl": "https://lh3.googleusercontent.com/a-/AOh14GiZLitwqSj3y4HL3aCS_nGs8LHA886Ap16p41prmA=s64",
      "userId": "03214756411046838000"
     },
     "user_tz": -330
    },
    "id": "owj2gYWfve9h"
   },
   "outputs": [],
   "source": [
    "train_generator = generator(train_path, train_doc, batch_size)\n",
    "val_generator = generator(val_path, val_doc, batch_size)"
   ]
  },
  {
   "cell_type": "code",
   "execution_count": 153,
   "metadata": {
    "colab": {
     "base_uri": "https://localhost:8080/"
    },
    "executionInfo": {
     "elapsed": 850,
     "status": "ok",
     "timestamp": 1620569957504,
     "user": {
      "displayName": "Andukuri Maharshi",
      "photoUrl": "https://lh3.googleusercontent.com/a-/AOh14GiZLitwqSj3y4HL3aCS_nGs8LHA886Ap16p41prmA=s64",
      "userId": "03214756411046838000"
     },
     "user_tz": -330
    },
    "id": "bL1hBOdPve9i",
    "outputId": "dd756398-c899-4a66-f79b-c244564d7da3"
   },
   "outputs": [
    {
     "name": "stdout",
     "output_type": "stream",
     "text": [
      "WARNING:tensorflow:`period` argument is deprecated. Please use `save_freq` to specify the frequency in number of batches seen.\n"
     ]
    }
   ],
   "source": [
    "model_name = 'model_init' + '_' + str(curr_dt_time).replace(' ','').replace(':','_') + '/'\n",
    "    \n",
    "if not os.path.exists(model_name):\n",
    "    os.mkdir(model_name)\n",
    "        \n",
    "filepath = model_name + 'model-{epoch:05d}-{loss:.5f}-{categorical_accuracy:.5f}-{val_loss:.5f}-{val_categorical_accuracy:.5f}.h5'\n",
    "\n",
    "checkpoint = ModelCheckpoint(filepath, monitor='val_loss', verbose=1, save_best_only=False, save_weights_only=False, mode='auto', period=1)\n",
    "\n",
    "LR = ReduceLROnPlateau(monitor='val_loss',factor=0.1,patience=3)# write the REducelronplateau code here\n",
    "callbacks_list = [checkpoint, LR]"
   ]
  },
  {
   "cell_type": "markdown",
   "metadata": {
    "id": "cGEm1Swlve9j"
   },
   "source": [
    "The `steps_per_epoch` and `validation_steps` are used by `fit_generator` to decide the number of next() calls it need to make."
   ]
  },
  {
   "cell_type": "code",
   "execution_count": 154,
   "metadata": {
    "executionInfo": {
     "elapsed": 789,
     "status": "ok",
     "timestamp": 1620569958717,
     "user": {
      "displayName": "Andukuri Maharshi",
      "photoUrl": "https://lh3.googleusercontent.com/a-/AOh14GiZLitwqSj3y4HL3aCS_nGs8LHA886Ap16p41prmA=s64",
      "userId": "03214756411046838000"
     },
     "user_tz": -330
    },
    "id": "vIPNUUmCve9k"
   },
   "outputs": [],
   "source": [
    "if (num_train_sequences%batch_size) == 0:\n",
    "    steps_per_epoch = int(num_train_sequences/batch_size)\n",
    "else:\n",
    "    steps_per_epoch = (num_train_sequences//batch_size) + 1\n",
    "\n",
    "if (num_val_sequences%batch_size) == 0:\n",
    "    validation_steps = int(num_val_sequences/batch_size)\n",
    "else:\n",
    "    validation_steps = (num_val_sequences//batch_size) + 1"
   ]
  },
  {
   "cell_type": "markdown",
   "metadata": {
    "id": "hH3FAQZCve9l"
   },
   "source": [
    "Let us now fit the model. This will start training the model and with the help of the checkpoints, you'll be able to save the model at the end of each epoch."
   ]
  },
  {
   "cell_type": "code",
   "execution_count": 155,
   "metadata": {
    "colab": {
     "base_uri": "https://localhost:8080/"
    },
    "executionInfo": {
     "elapsed": 659494,
     "status": "ok",
     "timestamp": 1620570618856,
     "user": {
      "displayName": "Andukuri Maharshi",
      "photoUrl": "https://lh3.googleusercontent.com/a-/AOh14GiZLitwqSj3y4HL3aCS_nGs8LHA886Ap16p41prmA=s64",
      "userId": "03214756411046838000"
     },
     "user_tz": -330
    },
    "id": "XFh85E4Uve9l",
    "outputId": "ccc99a56-1b71-485b-9eb9-8a4c3c188439"
   },
   "outputs": [
    {
     "name": "stdout",
     "output_type": "stream",
     "text": [
      "Source path =  /content/drive/MyDrive/Project_data/train ; batch size = 32\n",
      "Epoch 1/14\n",
      "21/21 [==============================] - ETA: 0s - loss: 2.0311 - categorical_accuracy: 0.2072Source path =  /content/drive/MyDrive/Project_data/val ; batch size = 32\n",
      "21/21 [==============================] - 48s 2s/step - loss: 2.0195 - categorical_accuracy: 0.2075 - val_loss: 1.5941 - val_categorical_accuracy: 0.2000\n",
      "\n",
      "Epoch 00001: saving model to model_init_2021-05-0914_19_13.867308/model-00001-1.77623-0.21418-1.59410-0.20000.h5\n",
      "Epoch 2/14\n",
      "21/21 [==============================] - 48s 2s/step - loss: 1.5366 - categorical_accuracy: 0.3042 - val_loss: 1.5837 - val_categorical_accuracy: 0.2300\n",
      "\n",
      "Epoch 00002: saving model to model_init_2021-05-0914_19_13.867308/model-00002-1.52516-0.29713-1.58367-0.23000.h5\n",
      "Epoch 3/14\n",
      "21/21 [==============================] - 47s 2s/step - loss: 1.4230 - categorical_accuracy: 0.3734 - val_loss: 1.5344 - val_categorical_accuracy: 0.3600\n",
      "\n",
      "Epoch 00003: saving model to model_init_2021-05-0914_19_13.867308/model-00003-1.40688-0.37557-1.53442-0.36000.h5\n",
      "Epoch 4/14\n",
      "21/21 [==============================] - 45s 2s/step - loss: 1.3602 - categorical_accuracy: 0.4294 - val_loss: 1.5372 - val_categorical_accuracy: 0.2000\n",
      "\n",
      "Epoch 00004: saving model to model_init_2021-05-0914_19_13.867308/model-00004-1.33640-0.42232-1.53721-0.20000.h5\n",
      "Epoch 5/14\n",
      "21/21 [==============================] - 47s 2s/step - loss: 1.2689 - categorical_accuracy: 0.4744 - val_loss: 1.5028 - val_categorical_accuracy: 0.2500\n",
      "\n",
      "Epoch 00005: saving model to model_init_2021-05-0914_19_13.867308/model-00005-1.25129-0.49472-1.50278-0.25000.h5\n",
      "Epoch 6/14\n",
      "21/21 [==============================] - 47s 2s/step - loss: 1.2694 - categorical_accuracy: 0.4770 - val_loss: 1.3940 - val_categorical_accuracy: 0.4500\n",
      "\n",
      "Epoch 00006: saving model to model_init_2021-05-0914_19_13.867308/model-00006-1.22982-0.50679-1.39403-0.45000.h5\n",
      "Epoch 7/14\n",
      "21/21 [==============================] - 47s 2s/step - loss: 1.1632 - categorical_accuracy: 0.5376 - val_loss: 1.2853 - val_categorical_accuracy: 0.5000\n",
      "\n",
      "Epoch 00007: saving model to model_init_2021-05-0914_19_13.867308/model-00007-1.14545-0.55656-1.28525-0.50000.h5\n",
      "Epoch 8/14\n",
      "21/21 [==============================] - 46s 2s/step - loss: 1.0876 - categorical_accuracy: 0.5372 - val_loss: 1.2255 - val_categorical_accuracy: 0.5400\n",
      "\n",
      "Epoch 00008: saving model to model_init_2021-05-0914_19_13.867308/model-00008-1.02591-0.58220-1.22551-0.54000.h5\n",
      "Epoch 9/14\n",
      "21/21 [==============================] - 47s 2s/step - loss: 0.9790 - categorical_accuracy: 0.6139 - val_loss: 1.1910 - val_categorical_accuracy: 0.5600\n",
      "\n",
      "Epoch 00009: saving model to model_init_2021-05-0914_19_13.867308/model-00009-1.00088-0.60784-1.19099-0.56000.h5\n",
      "Epoch 10/14\n",
      "21/21 [==============================] - 47s 2s/step - loss: 0.9127 - categorical_accuracy: 0.6380 - val_loss: 1.2451 - val_categorical_accuracy: 0.4500\n",
      "\n",
      "Epoch 00010: saving model to model_init_2021-05-0914_19_13.867308/model-00010-0.88348-0.65762-1.24506-0.45000.h5\n",
      "Epoch 11/14\n",
      "21/21 [==============================] - 47s 2s/step - loss: 0.8493 - categorical_accuracy: 0.6820 - val_loss: 1.0395 - val_categorical_accuracy: 0.6400\n",
      "\n",
      "Epoch 00011: saving model to model_init_2021-05-0914_19_13.867308/model-00011-0.81473-0.69532-1.03948-0.64000.h5\n",
      "Epoch 12/14\n",
      "21/21 [==============================] - 46s 2s/step - loss: 0.7307 - categorical_accuracy: 0.7517 - val_loss: 0.9975 - val_categorical_accuracy: 0.6600\n",
      "\n",
      "Epoch 00012: saving model to model_init_2021-05-0914_19_13.867308/model-00012-0.74705-0.72097-0.99753-0.66000.h5\n",
      "Epoch 13/14\n",
      "21/21 [==============================] - 46s 2s/step - loss: 0.6190 - categorical_accuracy: 0.7935 - val_loss: 0.8794 - val_categorical_accuracy: 0.6900\n",
      "\n",
      "Epoch 00013: saving model to model_init_2021-05-0914_19_13.867308/model-00013-0.64262-0.77225-0.87942-0.69000.h5\n",
      "Epoch 14/14\n",
      "21/21 [==============================] - 47s 2s/step - loss: 0.6414 - categorical_accuracy: 0.7777 - val_loss: 0.7506 - val_categorical_accuracy: 0.7500\n",
      "\n",
      "Epoch 00014: saving model to model_init_2021-05-0914_19_13.867308/model-00014-0.62993-0.77376-0.75060-0.75000.h5\n"
     ]
    },
    {
     "data": {
      "text/plain": [
       "<tensorflow.python.keras.callbacks.History at 0x7f1e5e4708d0>"
      ]
     },
     "execution_count": 155,
     "metadata": {
      "tags": []
     },
     "output_type": "execute_result"
    }
   ],
   "source": [
    "model.fit_generator(train_generator, steps_per_epoch=steps_per_epoch, epochs=num_epochs, verbose=1, \n",
    "                    callbacks=callbacks_list, validation_data=val_generator,\n",
    "                    validation_steps=validation_steps, class_weight=None, workers=1, initial_epoch=0)"
   ]
  },
  {
   "cell_type": "code",
   "execution_count": 156,
   "metadata": {
    "colab": {
     "base_uri": "https://localhost:8080/",
     "height": 499
    },
    "executionInfo": {
     "elapsed": 1126,
     "status": "ok",
     "timestamp": 1620570658932,
     "user": {
      "displayName": "Andukuri Maharshi",
      "photoUrl": "https://lh3.googleusercontent.com/a-/AOh14GiZLitwqSj3y4HL3aCS_nGs8LHA886Ap16p41prmA=s64",
      "userId": "03214756411046838000"
     },
     "user_tz": -330
    },
    "id": "VyPLOejOXZd0",
    "outputId": "ea3e7586-0078-41c4-f14c-89c987bc761a"
   },
   "outputs": [
    {
     "data": {
      "image/png": "[encoded data removed]",
      "text/plain": [
       "<Figure size 576x576 with 2 Axes>"
      ]
     },
     "metadata": {
      "needs_background": "light",
      "tags": []
     },
     "output_type": "display_data"
    }
   ],
   "source": [
    "acc = model.history.history['categorical_accuracy']\n",
    "val_acc = model.history.history['val_categorical_accuracy']\n",
    "\n",
    "loss = model.history.history['loss']\n",
    "val_loss = model.history.history['val_loss']\n",
    "\n",
    "epochs_range = range(num_epochs)\n",
    "import matplotlib.pyplot as plt\n",
    "plt.figure(figsize=(8, 8))\n",
    "plt.subplot(1, 2, 1)\n",
    "plt.plot(epochs_range, acc, label='Training Accuracy')\n",
    "plt.plot(epochs_range, val_acc, label='Validation Accuracy')\n",
    "plt.legend(loc='lower right')\n",
    "plt.title('Training and Validation Accuracy')\n",
    "\n",
    "plt.subplot(1, 2, 2)\n",
    "plt.plot(epochs_range, loss, label='Training Loss')\n",
    "plt.plot(epochs_range, val_loss, label='Validation Loss')\n",
    "plt.legend(loc='upper right')\n",
    "plt.title('Training and Validation Loss')\n",
    "plt.show()"
   ]
  },
  {
   "cell_type": "code",
   "execution_count": null,
   "metadata": {
    "id": "zjHpggpJv0Zz"
   },
   "outputs": [],
   "source": []
  }
 ],
 "metadata": {
  "accelerator": "GPU",
  "colab": {
   "collapsed_sections": [],
   "name": "Neural_Nets_Project_Starter_Code.ipynb",
   "provenance": []
  },
  "kernelspec": {
   "display_name": "Python 3",
   "language": "python",
   "name": "python3"
  },
  "language_info": {
   "codemirror_mode": {
    "name": "ipython",
    "version": 3
   },
   "file_extension": ".py",
   "mimetype": "text/x-python",
   "name": "python",
   "nbconvert_exporter": "python",
   "pygments_lexer": "ipython3",
   "version": "3.7.6"
  }
 },
 "nbformat": 4,
 "nbformat_minor": 1
}
